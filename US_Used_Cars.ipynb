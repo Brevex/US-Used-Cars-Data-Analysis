{
  "nbformat": 4,
  "nbformat_minor": 0,
  "metadata": {
    "colab": {
      "provenance": [],
      "authorship_tag": "ABX9TyM7d7iUk6JU4TpLNov4mwsG",
      "include_colab_link": true
    },
    "kernelspec": {
      "name": "python3",
      "display_name": "Python 3"
    },
    "language_info": {
      "name": "python"
    }
  },
  "cells": [
    {
      "cell_type": "markdown",
      "metadata": {
        "id": "view-in-github",
        "colab_type": "text"
      },
      "source": [
        "<a href=\"https://colab.research.google.com/github/Brevex/US-Used-Cars-Data-Analysis/blob/main/US_Used_Cars.ipynb\" target=\"_parent\"><img src=\"https://colab.research.google.com/assets/colab-badge.svg\" alt=\"Open In Colab\"/></a>"
      ]
    },
    {
      "cell_type": "code",
      "execution_count": null,
      "metadata": {
        "id": "6U5O0rEhxTI-"
      },
      "outputs": [],
      "source": [
        "!pip install dask\n",
        "!pip install opendatasets"
      ]
    },
    {
      "cell_type": "code",
      "source": [
        "import pandas as pd\n",
        "import numpy as np\n",
        "import seaborn as sns\n",
        "import opendatasets as od\n",
        "import matplotlib.pyplot as plt\n",
        "\n",
        "from dask import dataframe as dd\n",
        "from sklearn.ensemble import RandomForestRegressor\n",
        "from sklearn.model_selection import train_test_split\n",
        "from sklearn.metrics import mean_squared_error, mean_absolute_error, r2_score\n",
        "from sklearn.preprocessing import LabelEncoder\n",
        "from sklearn.tree import DecisionTreeClassifier\n",
        "from sklearn.metrics import accuracy_score\n",
        "from sklearn.linear_model import LogisticRegression\n",
        "from sklearn.ensemble import RandomForestClassifier\n",
        "from sklearn.inspection import permutation_importance"
      ],
      "metadata": {
        "id": "TtWPyK4S5eGh"
      },
      "execution_count": 15,
      "outputs": []
    },
    {
      "cell_type": "code",
      "source": [
        "od.download(\"https://www.kaggle.com/datasets/ananaymital/us-used-cars-dataset\")"
      ],
      "metadata": {
        "id": "Nie9C7Cd9e0t"
      },
      "execution_count": null,
      "outputs": []
    },
    {
      "cell_type": "code",
      "source": [
        "dask_df = dd.read_csv('/content/us-used-cars-dataset/used_cars_data.csv', blocksize=\"64MB\",\n",
        "       usecols=[\n",
        "          'engine_cylinders',\n",
        "          'fuel_tank_volume',\n",
        "          'horsepower',\n",
        "          'make_name',\n",
        "          'mileage',\n",
        "          'model_name',\n",
        "          'power',\n",
        "          'price',\n",
        "          'torque',\n",
        "          'transmission',\n",
        "          'year'\n",
        "       ])\n",
        "\n",
        "df = dask_df.compute()\n",
        "df"
      ],
      "metadata": {
        "id": "Lm3zs_0m51IZ"
      },
      "execution_count": null,
      "outputs": []
    },
    {
      "cell_type": "code",
      "source": [
        "df.info()"
      ],
      "metadata": {
        "id": "uLTLzhwR9h9O"
      },
      "execution_count": null,
      "outputs": []
    },
    {
      "cell_type": "code",
      "source": [
        "count = 0\n",
        "nan_col = []\n",
        "col_percent = []\n",
        "\n",
        "for col in df.columns:\n",
        "    nan_qntt = df[col].isna().sum()\n",
        "\n",
        "    if nan_qntt > 0:\n",
        "\n",
        "        percent = nan_qntt/df.shape[0]*100\n",
        "        print('A coluna {} tem {}% NaN'.format(col,[percent]))\n",
        "        count += 1\n",
        "        nan_col += [col]\n",
        "        col_percent += [(col,percent)]\n",
        "\n",
        "print(count)\n",
        "print(nan_col)"
      ],
      "metadata": {
        "id": "sa7eGSNm9j8g"
      },
      "execution_count": null,
      "outputs": []
    },
    {
      "cell_type": "code",
      "source": [
        "df.isna().sum()"
      ],
      "metadata": {
        "id": "y4nwTE5o9lpi"
      },
      "execution_count": null,
      "outputs": []
    },
    {
      "cell_type": "code",
      "source": [
        "ignored_nan_df = df.dropna()\n",
        "ignored_nan_df"
      ],
      "metadata": {
        "id": "mkyRkm-d9nUZ"
      },
      "execution_count": null,
      "outputs": []
    },
    {
      "cell_type": "code",
      "source": [
        "df_no_mileage = df.drop(axis=1, labels='mileage')\n",
        "ignoring_nan_and_mileage_df = df_no_mileage.dropna()\n",
        "ignoring_nan_and_mileage_df\n",
        "ignoring_nan_and_mileage_df.info()"
      ],
      "metadata": {
        "id": "2D_AwYJK9pAf"
      },
      "execution_count": null,
      "outputs": []
    },
    {
      "cell_type": "code",
      "source": [
        "df_tratando = ignoring_nan_and_mileage_df.drop_duplicates()\n",
        "\n",
        "# Removing strings from data\n",
        "df_tratando['fuel_tank_volume'] = df_tratando['fuel_tank_volume'].replace('--', np.nan)\n",
        "df_tratando['fuel_tank_volume'] = df_tratando['fuel_tank_volume'].str.replace(' gal', '').astype(float)\n",
        "\n",
        "df_tratando = df_tratando.drop('power', axis = 1)\n",
        "df_tratando = df_tratando.drop('torque', axis = 1)\n",
        "\n",
        "df_final = df_tratando.dropna()"
      ],
      "metadata": {
        "id": "CPfU7Z3I9qqs"
      },
      "execution_count": null,
      "outputs": []
    },
    {
      "cell_type": "code",
      "source": [
        "df_final.head(10)"
      ],
      "metadata": {
        "id": "oIJ7aJIu9saP"
      },
      "execution_count": null,
      "outputs": []
    },
    {
      "cell_type": "markdown",
      "source": [
        "# Importance score for each variable"
      ],
      "metadata": {
        "id": "0Qmne0en93L_"
      }
    },
    {
      "cell_type": "code",
      "source": [
        "# Defining the input variables (X) and the target variable (y)\n",
        "X = df_final.drop(\"price\", axis=1)\n",
        "y = df_final[\"price\"]\n",
        "\n",
        "# Encoding categorical variables using LabelEncoder\n",
        "categorical_cols = [\"engine_cylinders\", \"make_name\", \"model_name\", \"transmission\"]\n",
        "\n",
        "for col in categorical_cols:\n",
        "\n",
        "    encoder = LabelEncoder()\n",
        "    X[col] = encoder.fit_transform(X[col])\n",
        "\n",
        "# Splitting the data into training and testing sets\n",
        "X_train, X_test, y_train, y_test = train_test_split(X, y, test_size=0.2, random_state=42)\n",
        "\n",
        "# Creating an instance of the Random Forest model\n",
        "model = RandomForestRegressor()\n",
        "\n",
        "# Training the model with the training data\n",
        "model.fit(X_train, y_train)\n",
        "\n",
        "# Making predictions with the test set\n",
        "y_pred = model.predict(X_test)\n",
        "\n",
        "# Evaluating the model\n",
        "mse = mean_squared_error(y_test, y_pred)\n",
        "r2 = r2_score(y_test, y_pred)"
      ],
      "metadata": {
        "id": "dJ2SE3BH95v8"
      },
      "execution_count": null,
      "outputs": []
    },
    {
      "cell_type": "code",
      "source": [
        "sorted_idx = model.feature_importances_.argsort()\n",
        "plt.barh(X.columns[sorted_idx], model.feature_importances_[sorted_idx])\n",
        "plt.xlabel(\"Random Forest Feature Importance\")\n",
        "plt.show()"
      ],
      "metadata": {
        "id": "01KMrMg15K10"
      },
      "execution_count": null,
      "outputs": []
    },
    {
      "cell_type": "markdown",
      "source": [
        "#Horsepower x Engine Chart"
      ],
      "metadata": {
        "id": "QfOvoRgh99jm"
      }
    },
    {
      "cell_type": "code",
      "source": [
        "# Grouping the data by 'engine_cylinders' and calculate the average of 'horsepower'\n",
        "mean_horsepower = df.groupby('engine_cylinders')['horsepower'].mean()\n",
        "\n",
        "# Increasing the chart width\n",
        "plt.figure(figsize=(12, 8))\n",
        "\n",
        "# Creating a bar chart with average 'horsepower' by type of 'engine_cylinders'\n",
        "mean_horsepower.plot(kind='bar')\n",
        "\n",
        "# Customizing the chart\n",
        "plt.title(\"Average Horsepower by Engine Cylinders\")\n",
        "plt.xlabel(\"Engine Cylinders\")\n",
        "plt.ylabel(\"Average Horsepower\")\n",
        "\n",
        "plt.show()"
      ],
      "metadata": {
        "id": "IZ2zOsfY-B2q"
      },
      "execution_count": null,
      "outputs": []
    },
    {
      "cell_type": "markdown",
      "source": [
        "#Average Horsepower score per engine"
      ],
      "metadata": {
        "id": "0KQ99-N0-Et6"
      }
    },
    {
      "cell_type": "code",
      "source": [
        "# Transforming categorical variables into numerical ones\n",
        "label_encoder = LabelEncoder()\n",
        "\n",
        "df_final['engine_cylinders_encoded'] = label_encoder.fit_transform(df_final['engine_cylinders'])\n",
        "df_final['horsepower'] = pd.to_numeric(df_final['horsepower'])\n",
        "\n",
        "# Calculating the average horsepower for each engine cylinders\n",
        "grouped_data = df_final.groupby('engine_cylinders_encoded')['horsepower'].mean().reset_index()\n",
        "\n",
        "# Normalizing the average of 'horsepower' between 0 and 1\n",
        "min_horsepower = grouped_data['horsepower'].min()\n",
        "max_horsepower = grouped_data['horsepower'].max()\n",
        "grouped_data['score'] = (grouped_data['horsepower'] - min_horsepower) / (max_horsepower - min_horsepower)\n",
        "\n",
        "# Sorting the results by score in ascending order\n",
        "grouped_data = grouped_data.sort_values(by='score')\n",
        "\n",
        "# Getting the original names of engine cylinders\n",
        "engine_cylinders_names = label_encoder.inverse_transform(grouped_data['engine_cylinders_encoded'])\n",
        "\n",
        "# Creating a DataFrame with the data\n",
        "df_scores = pd.DataFrame({'engine_cylinders': engine_cylinders_names, 'score': grouped_data['score']})\n",
        "\n",
        "# Sorting the DataFrame by score in descending order and resetting index\n",
        "df_scores = df_scores.sort_values('score', ascending=False).reset_index(drop=True)\n",
        "\n",
        "# Creating the bar plot\n",
        "plt.figure(figsize=(10, 6))\n",
        "plt.barh(df_scores['engine_cylinders'], df_scores['score'], color='steelblue')\n",
        "plt.xlabel('Score')\n",
        "plt.ylabel('Engine Cylinders')\n",
        "plt.title('Score by Engine Cylinders')\n",
        "plt.show()"
      ],
      "metadata": {
        "id": "dLQsJkYx-G3a"
      },
      "execution_count": null,
      "outputs": []
    },
    {
      "cell_type": "markdown",
      "source": [
        "#Price prediction"
      ],
      "metadata": {
        "id": "cxmtUpa1StSC"
      }
    },
    {
      "cell_type": "code",
      "source": [
        "X = df_final.drop('price', axis=1)\n",
        "y = df_final['price']\n",
        "\n",
        "label_encoder = LabelEncoder()\n",
        "\n",
        "for col in X.columns:\n",
        "   if X[col].dtype == 'object':\n",
        "       X[col] = label_encoder.fit_transform(X[col])\n",
        "\n",
        "X_train, X_test, y_train, y_test = train_test_split(X, y, test_size=0.2, random_state=42)\n",
        "\n",
        "model = RandomForestRegressor(n_estimators=100, random_state=0)\n",
        "model.fit(X_train, y_train)\n",
        "\n",
        "y_pred = model.predict(X_test)\n",
        "\n",
        "rmse = np.sqrt(mean_squared_error(y_test, y_pred))\n",
        "mae = mean_absolute_error(y_test, y_pred)\n",
        "r2 = r2_score(y_test, y_pred)"
      ],
      "metadata": {
        "id": "xkSwPTF4SuI6"
      },
      "execution_count": null,
      "outputs": []
    },
    {
      "cell_type": "code",
      "source": [
        "sns.scatterplot(x=y_test, y=y_pred)\n",
        "\n",
        "sns.regplot(x=y_test, y=y_pred)\n",
        "\n",
        "plt.xlabel('Real Price')\n",
        "plt.ylabel('Predicted Price')\n",
        "plt.title('Real vs Predicted Price')\n",
        "plt.show()\n"
      ],
      "metadata": {
        "id": "2RrSEWebVBI0"
      },
      "execution_count": null,
      "outputs": []
    }
  ]
}